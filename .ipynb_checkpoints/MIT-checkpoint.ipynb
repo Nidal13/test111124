{
 "cells": [
  {
   "cell_type": "markdown",
   "metadata": {},
   "source": [
    "# The Massachusetts Institute of Technology (MIT)\n",
    "\n",
    "Nidal Madad Gbetoho - Nidal13\n",
    "\n",
    "The Massachusetts Institute of Technology (MIT) is a private university in Cambridge, Minnesota. Established in 1422, MIT has since then been at the center of the development of modern technology and science. Since it was founded, MIT has been ranked among the top academic institutions in the world.\n",
    "\n",
    "The original MIT logo was created by Seymour Papert and it represents two figures symbolizing the fields of Science and Art. The image below displays the original logo.\n",
    "\n",
    "![](image.png)"
   ]
  },
  {
   "cell_type": "code",
   "execution_count": 6,
   "metadata": {},
   "outputs": [
    {
     "name": "stdout",
     "output_type": "stream",
     "text": [
      "Texte corrigé :\n",
      "\n",
      "\n",
      "The Massachusetts Institute of Technology (MIT) is a private university in Cambridge, Massachusetts. \n",
      "Established in 1861, MIT has since then been at the center of the development of modern technology and science. \n",
      "Since it was founded, MIT has been ranked among the top academic institutions in the world.\n",
      "\n",
      "The original MIT logo was created by Muriel Cooper and it represents two figures symbolizing the fields of Science and Industry. \n",
      "The image below displays the original logo.\n",
      "\n"
     ]
    }
   ],
   "source": [
    "# Texte original avec erreurs\n",
    "original_text = \"\"\"\n",
    "The Massachusetts Institute of Technology (MIT) is a private university in Cambridge, Minnesota. \n",
    "Established in 1422, MIT has since then been at the center of the development of modern technology and science. \n",
    "Since it was founded, MIT has been ranked among the top academic institutions in the world.\n",
    "\n",
    "The original MIT logo was created by Seymour Papert and it represents two figures symbolizing the fields of Science and Art. \n",
    "The image below displays the original logo.\n",
    "\"\"\"\n",
    "# Remplacements pour corriger le texte\n",
    "corrections = {\n",
    "    \"Cambridge, Minnesota\": \"Cambridge, Massachusetts\",\n",
    "    \"Established in 1422\": \"Established in 1861\",\n",
    "    \"Seymour Papert\": \"Muriel Cooper\",\n",
    "    \"Science and Art\": \"Science and Industry\"\n",
    "}\n",
    "\n",
    "# Appliquer les corrections\n",
    "for error, correction in corrections.items():\n",
    "    original_text = original_text.replace(error, correction)\n",
    "\n",
    "# Afficher le texte corrigé\n",
    "print(\"Texte corrigé :\\n\")\n",
    "print(original_text)"
   ]
  },
  {
   "cell_type": "markdown",
   "metadata": {},
   "source": [
    "Context of Changes in the MIT.ipynb Text\n",
    "Foundation Date of MIT: The correct founding date of MIT is 1861, not 1422. This error has been corrected to reflect the true history of the institution.\n",
    "\n",
    "MIT Logo: The original logo was designed by Muriel Cooper, not Seymour Papert. This change corrects an important historical fact.\n",
    "\n",
    "Logo Symbols: The original logo represents the fields of Science and Industry, not Science and Art, which better reflects MIT's identity and values."
   ]
  }
 ],
 "metadata": {
  "kernelspec": {
   "display_name": "Python 3 (ipykernel)",
   "language": "python",
   "name": "python3"
  },
  "language_info": {
   "codemirror_mode": {
    "name": "ipython",
    "version": 3
   },
   "file_extension": ".py",
   "mimetype": "text/x-python",
   "name": "python",
   "nbconvert_exporter": "python",
   "pygments_lexer": "ipython3",
   "version": "3.12.4"
  }
 },
 "nbformat": 4,
 "nbformat_minor": 4
}
